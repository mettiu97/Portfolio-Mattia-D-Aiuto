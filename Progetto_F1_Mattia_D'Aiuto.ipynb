{
  "nbformat": 4,
  "nbformat_minor": 0,
  "metadata": {
    "colab": {
      "provenance": []
    },
    "kernelspec": {
      "name": "python3",
      "display_name": "Python 3"
    },
    "language_info": {
      "name": "python"
    }
  },
  "cells": [
    {
      "cell_type": "code",
      "source": [
        "import csv\n",
        "\n",
        "def  analizza_pilota(nome_pilota,formula1_database_csv):\n",
        "    \"\"\"\n",
        "    Analizza le prestazioni di un pilota basandosi sui dati di un file CSV.\n",
        "\n",
        "    Args:\n",
        "        nome_pilota: Il nome del pilota da analizzare.\n",
        "        formula1_database_csv: Il percorso al file CSV contenente i dati.\n",
        "\n",
        "    Returns:\n",
        "        dict: Un dizionario con il totale dei punti, il numero di vittorie e il numero di podi.\n",
        "    \"\"\"\n",
        "    # Sistema di punteggio\n",
        "    punteggi = {1: 10, 2: 8, 3: 6, 4: 5, 5: 4, 6: 3, 7: 2, 8: 1}\n",
        "\n",
        "    totale_punti = 0\n",
        "    vittorie = 0\n",
        "    podi = 0\n",
        "\n",
        "    # Apertura del file CSV\n",
        "    try:\n",
        "        with open(\"formula1_data.csv\") as formula1_database:\n",
        "            formula1_database_reader = csv.DictReader(formula1_database)\n",
        "\n",
        "            for row in formula1_database_reader:\n",
        "                # Controlla se il pilota corrisponde\n",
        "                if row['Driver'] == nome_pilota:\n",
        "                    posizione = int(row['Position'])\n",
        "\n",
        "                    # Calcola i punti (solo posizioni da 1 a 8)\n",
        "                    totale_punti += punteggi.get(posizione, 0)\n",
        "\n",
        "                    # Conta le vittorie (1° posto)\n",
        "                    if posizione == 1:\n",
        "                        vittorie += 1\n",
        "\n",
        "                    # Conta i podi (1°, 2°, 3° posto)\n",
        "                    if posizione in [1, 2, 3]:\n",
        "                        podi += 1\n",
        "\n",
        "        # Se nessun dato è stato trovato per il pilota\n",
        "        if totale_punti == 0 and vittorie == 0 and podi == 0:\n",
        "            return f\"Nessun dato trovato per il pilota {nome_pilota}.\"\n",
        "\n",
        "        # Ritorna i risultati\n",
        "        return {\n",
        "            \"Totale Punti\": totale_punti,\n",
        "            \"Vittorie\": vittorie,\n",
        "            \"Podi\": podi\n",
        "        }\n",
        "        # Considera anche questa eccezione se non viene trovato il file.csv\n",
        "    except FileNotFoundError:\n",
        "        return f\"File 'formula1_data.csv' non trovato.\"\n",
        "\n"
      ],
      "metadata": {
        "id": "Q_fvp3NAzkWy"
      },
      "execution_count": null,
      "outputs": []
    },
    {
      "cell_type": "code",
      "source": [
        "import string\n",
        "nome_pilota_input = input(\"Pilota: \" )\n",
        "nome_pilota = string.capwords(nome_pilota_input)\n",
        " # Importa il modulo string e poi utilizza capwords per traformare la prima lettera in maiuscolo nel caso\n",
        " # l'utente scriva in minuscolo. Necessario perchè il nome del driver nel database presenta la prima lettera in maiuscolo\n",
        "print(str(analizza_pilota(nome_pilota,\"formula1_data.csv\")))\n"
      ],
      "metadata": {
        "id": "ZQZv9xRK64v6",
        "colab": {
          "base_uri": "https://localhost:8080/"
        },
        "outputId": "dba1d957-432f-41aa-ba87-c04a2024425d"
      },
      "execution_count": null,
      "outputs": [
        {
          "output_type": "stream",
          "name": "stdout",
          "text": [
            "Pilota: alonso\n",
            "{'Totale Punti': 61, 'Vittorie': 2, 'Podi': 3}\n"
          ]
        }
      ]
    },
    {
      "cell_type": "code",
      "source": [
        "def genera_classifica(file_csv, classifica_generale):\n",
        "    \"\"\"\n",
        "    Genera una classifica generale dei piloti basata sui dati del file CSV e salva i risultati in un file di testo.\n",
        "\n",
        "    Args:\n",
        "        file_csv: Il percorso al file CSV contenente i dati.\n",
        "        classifica_generale: Il percorso del file di testo dove salvare la classifica.\n",
        "\n",
        "    Returns:\n",
        "        dict: Un dizionario con i nomi dei piloti come chiavi e i punteggi totali come valori.\n",
        "    \"\"\"\n",
        "    # Sistema di punteggio\n",
        "    punteggi = {1: 10, 2: 8, 3: 6, 4: 5, 5: 4, 6: 3, 7: 2, 8: 1}\n",
        "\n",
        "    # Dizionario per memorizzare i punteggi dei piloti\n",
        "    classifica_piloti = {}\n",
        "\n",
        "    try:\n",
        "        # Apertura del file CSV\n",
        "        with open(\"formula1_data.csv\") as formula1_database:\n",
        "            formula1_database_reader = csv.DictReader(formula1_database)\n",
        "\n",
        "            for row in formula1_database_reader:\n",
        "                nome_pilota = row['Driver']\n",
        "                posizione = int(row['Position'])\n",
        "\n",
        "                # Calcola i punti per la posizione\n",
        "                punti = punteggi.get(posizione, 0)\n",
        "\n",
        "                # Aggiungi i punti al pilota\n",
        "                if nome_pilota in classifica_piloti:\n",
        "                    classifica_piloti[nome_pilota] += punti\n",
        "                else:\n",
        "                    classifica_piloti[nome_pilota] = punti\n",
        "\n",
        "        # Ordina la classifica in base ai valori del dizionario usando key=lamda e poi in base al punteggio (decrescente) utilizzando reverse=true\n",
        "        classifica_ordinata = sorted(classifica_piloti.items(), key=lambda item: item[1], reverse=True)\n",
        "\n",
        "        # Scrive la classifica nel file di output\n",
        "        with open(classifica_generale,\"w\") as file:\n",
        "            file.write(\"Drivers Standings 2008 Formula 1\\n\\n\")\n",
        "            for nome_pilota, punteggio in classifica_ordinata:\n",
        "                file.write(f\"{nome_pilota}: {punteggio}\\n\")\n",
        "\n",
        "        return dict(classifica_ordinata)\n",
        "\n",
        "      # Considera anche questa eccezione se non viene trovato il file.csv\n",
        "    except FileNotFoundError:\n",
        "        return f\"File 'formula1_data.csv' non trovato.\"\n",
        "\n"
      ],
      "metadata": {
        "id": "_kP-Y6uLI3-x"
      },
      "execution_count": null,
      "outputs": []
    },
    {
      "cell_type": "code",
      "source": [
        "classifica_generale_piloti = genera_classifica(\"formula1_data.csv\", \"Drivers_Standings_2008.txt\")\n",
        "print(classifica_generale_piloti)"
      ],
      "metadata": {
        "colab": {
          "base_uri": "https://localhost:8080/"
        },
        "id": "Y2OAGxWA5mhe",
        "outputId": "c0238a67-8382-42f2-f0fe-44479eca1be3"
      },
      "execution_count": null,
      "outputs": [
        {
          "output_type": "stream",
          "name": "stdout",
          "text": [
            "{'Hamilton': 98, 'Massa': 97, 'Raikkonen': 75, 'Kubica': 75, 'Alonso': 61, 'Heidfeld': 60, 'Kovalainen': 53, 'Vettel': 35, 'Trulli': 31, 'Glock': 25}\n"
          ]
        }
      ]
    },
    {
      "cell_type": "code",
      "source": [
        "def classifica_costruttori(file_csv, classifica_piloti):\n",
        "    \"\"\"\n",
        "    Crea una classifica dei costruttori basata sui punteggi totali dei piloti.\n",
        "\n",
        "    Args:\n",
        "        file_csv (str): Il percorso al file CSV contenente i dati.\n",
        "        classifica_piloti (dict): Il dizionario dei punteggi totali per pilota generato in precedenza.\n",
        "\n",
        "    Returns:\n",
        "        dict: Un dizionario con i nomi dei team/costruttori come chiavi e il loro punteggio totale come valori.\n",
        "    \"\"\"\n",
        "    # Dizionario per memorizzare i punteggi dei costruttori\n",
        "    classifica_team = {}\n",
        "\n",
        "    try:\n",
        "        # Apertura del file CSV\n",
        "        with open(\"formula1_data.csv\") as formula1_database:\n",
        "            formula1_database_reader = csv.DictReader(formula1_database)\n",
        "            # Utilizza un dizionario per associare ogni pilota al rispettivo team\n",
        "            # Questoo è necessario perchè partiamo dai dati della classifica piloti della precedente funzione\n",
        "            # Che forniscono solo i punteggi totali per ciascun pilota e non a che team appartiene\n",
        "            mappa_pilota_team = {}\n",
        "\n",
        "            for row in formula1_database_reader:\n",
        "                nome_pilota = row['Driver']\n",
        "                nome_team = row['Team']\n",
        "                mappa_pilota_team[nome_pilota] = nome_team\n",
        "\n",
        "            for pilota, punteggio in classifica_generale_piloti.items():\n",
        "                nome_team = mappa_pilota_team.get(pilota)\n",
        "                if nome_team:\n",
        "                # Aggiungi il punteggio del pilota al team\n",
        "                    if nome_team in classifica_team:\n",
        "                        classifica_team[nome_team] += punteggio\n",
        "                    else:\n",
        "                        classifica_team[nome_team] = punteggio\n",
        "\n",
        "        # Ordina la classifica in base ai valori del dizionario usando key=lamda e poi in base al punteggio (decrescente) utilizzando reverse=true\n",
        "        classifica_team_ordinata = dict(sorted(classifica_team.items(), key=lambda item: item[1], reverse=True))\n",
        "\n",
        "        return classifica_team_ordinata\n",
        "\n",
        "      # Considera anche questa eccezione se non viene trovato il file.csv\n",
        "    except FileNotFoundError:\n",
        "        return f\"File 'formula1_data.csv' non trovato.\"\n"
      ],
      "metadata": {
        "id": "-h6PZl1oW2E6"
      },
      "execution_count": null,
      "outputs": []
    },
    {
      "cell_type": "code",
      "source": [
        "classifica_costr = classifica_costruttori(\"formula1_data.csv\", classifica_generale_piloti)\n",
        "print(classifica_costr)\n"
      ],
      "metadata": {
        "colab": {
          "base_uri": "https://localhost:8080/"
        },
        "id": "renX2tfEq3Qe",
        "outputId": "f7bc51b1-4ffd-46e1-8e7b-97a51bf2273f"
      },
      "execution_count": null,
      "outputs": [
        {
          "output_type": "stream",
          "name": "stdout",
          "text": [
            "{'Ferrari': 172, 'McLaren': 151, 'BMW': 135, 'Renault': 61, 'Toyota': 56, 'Toro Rosso': 35}\n"
          ]
        }
      ]
    },
    {
      "cell_type": "code",
      "source": [
        "# Riepilogo degli output delle tre funzioni\n",
        "nome_pilota_input = input(\"Pilota: \" )\n",
        "nome_pilota = string.capwords(nome_pilota_input)\n",
        "print(str(analizza_pilota(nome_pilota,\"formula1_data.csv\")))\n",
        "print(classifica_generale_piloti)\n",
        "print(classifica_costr)\n"
      ],
      "metadata": {
        "colab": {
          "base_uri": "https://localhost:8080/"
        },
        "id": "bFBEvQrXzQOP",
        "outputId": "18c688e9-a6e3-44ba-8e4a-820a921e4e49"
      },
      "execution_count": null,
      "outputs": [
        {
          "output_type": "stream",
          "name": "stdout",
          "text": [
            "Pilota: alonsoo\n",
            "Nessun dato trovato per il pilota Alonsoo.\n",
            "{'Hamilton': 98, 'Massa': 97, 'Raikkonen': 75, 'Kubica': 75, 'Alonso': 61, 'Heidfeld': 60, 'Kovalainen': 53, 'Vettel': 35, 'Trulli': 31, 'Glock': 25}\n",
            "{'Ferrari': 172, 'McLaren': 151, 'BMW': 135, 'Renault': 61, 'Toyota': 56, 'Toro Rosso': 35}\n"
          ]
        }
      ]
    }
  ]
}